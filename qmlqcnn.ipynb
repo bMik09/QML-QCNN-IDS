{
 "cells": [
  {
   "cell_type": "code",
   "execution_count": 1,
   "id": "6a2e55d0-3b9a-4197-b745-7d2e38e18988",
   "metadata": {
    "tags": []
   },
   "outputs": [],
   "source": [
    "# Importing standard Qiskit libraries\n",
    "from qiskit import QuantumCircuit, transpile\n",
    "from qiskit.tools.jupyter import *\n",
    "from qiskit.visualization import *\n",
    "from ibm_quantum_widgets import *\n",
    "from qiskit_aer import AerSimulator\n",
    "\n",
    "# qiskit-ibmq-provider has been deprecated.\n",
    "# Please see the Migration Guides in https://ibm.biz/provider_migration_guide for more detail.\n",
    "from qiskit_ibm_runtime import QiskitRuntimeService, Sampler, Estimator, Session, Options\n",
    "\n",
    "# Loading your IBM Quantum account(s)\n",
    "service = QiskitRuntimeService(channel=\"ibm_quantum\")\n",
    "\n",
    "# Invoke a primitive inside a session. For more details see https://qiskit.org/documentation/partners/qiskit_ibm_runtime/tutorials.html\n",
    "# with Session(backend=service.backend(\"ibmq_qasm_simulator\")):\n",
    "#     result = Sampler().run(circuits).result()"
   ]
  },
  {
   "cell_type": "code",
   "execution_count": null,
   "id": "469a17a5-0d46-4905-ad1a-ed8efd04ae42",
   "metadata": {},
   "outputs": [],
   "source": [
    "# Assume that preprocessed_data is the pre-processed dataset that has been prepared\n",
    "# according to the instructions in the previous steps.\n",
    "\n",
    "# Define the number of qubits required to encode the data.\n",
    "num_qubits = len(preprocessed_data[0])\n",
    "\n",
    "# Initialize a quantum register with the required number of qubits.\n",
    "qr = QuantumRegister(num_qubits)\n",
    "\n",
    "# Create a quantum circuit with the initialized quantum register.\n",
    "circ = QuantumCircuit(qr)\n",
    "\n",
    "# Loop through the pre-processed data and apply amplitude encoding to each qubit.\n",
    "for i, sample in enumerate(preprocessed_data):\n",
    "    for j, value in enumerate(sample):\n",
    "        circ.ry(2 * value, qr[j])\n",
    "\n",
    "# Save the encoded quantum states to be used in further processing.\n",
    "encoded_states = circ"
   ]
  },
  {
   "cell_type": "code",
   "execution_count": null,
   "id": "b4f934fc-3814-4f5e-9908-7d020205978b",
   "metadata": {},
   "outputs": [],
   "source": [
    "from qiskit.aqua import QuantumInstance\n",
    "from qiskit.aqua.algorithms import QSVM\n",
    "from qiskit.aqua.components.feature_maps import SecondOrderExpansion\n",
    "from qiskit.aqua.components.multiclass_extensions import AllPairs\n",
    "from qiskit.aqua.utils import split_dataset_to_data_and_labels\n",
    "\n",
    "# Assume that encoded_states is the encoded quantum states that have been prepared\n",
    "# according to the instructions in the previous steps.\n",
    "\n",
    "# Split the encoded states into training and test sets.\n",
    "training_data, test_data, training_labels, test_labels = split_dataset_to_data_and_labels(encoded_states, labels)\n",
    "\n",
    "# Define the number of qubits required to run the QSVM algorithm.\n",
    "num_qubits = len(encoded_states.qubits)\n",
    "\n",
    "# Initialize a feature map for the QSVM algorithm.\n",
    "feature_map = SecondOrderExpansion(num_qubits)\n",
    "\n",
    "# Initialize an all-pairs multiclass extension for the QSVM algorithm.\n",
    "multiclass_extension = AllPairs(feature_map)\n",
    "\n",
    "# Initialize a QSVM algorithm instance with the feature map and multiclass extension.\n",
    "qsvm = QSVM(feature_map, training_data, training_labels, multiclass_extension)\n",
    "\n",
    "# Initialize a quantum instance to run the QSVM algorithm on a quantum computing platform.\n",
    "quantum_instance = QuantumInstance(backend, shots=num_shots)\n",
    "\n",
    "# Run the QSVM algorithm on the quantum instance and obtain the results.\n",
    "results = qsvm.run(quantum_instance)\n",
    "\n",
    "# Save the results obtained from the quantum computing platform for further analysis and comparison with the classical deep learning results.\n"
   ]
  },
  {
   "cell_type": "code",
   "execution_count": null,
   "id": "a6ce99e2-6666-4ba0-b391-1e6b4c4a75c2",
   "metadata": {},
   "outputs": [],
   "source": [
    "# Load test data\n",
    "test_data = pd.read_csv('KDDTest+.txt', header=None, names=col_names)\n",
    "\n",
    "# Preprocess test data\n",
    "test_data = preprocess_data(test_data)\n",
    "\n",
    "# Separate features and labels\n",
    "test_labels = test_data.pop('label')\n",
    "test_features = test_data.values\n",
    "\n",
    "# Convert to one-hot encoding\n",
    "test_features = encoder.transform(test_features).toarray()\n",
    "\n",
    "# Normalize features\n",
    "test_features = scaler.transform(test_features)\n"
   ]
  },
  {
   "cell_type": "code",
   "execution_count": null,
   "id": "1f8108da-fab5-4a84-b245-c7d2a9a29575",
   "metadata": {},
   "outputs": [],
   "source": [
    "# Encode test features using quantum encoding\n",
    "test_encoded = []\n",
    "for features in test_features:\n",
    "    encoded_features = quantum_encode(features, qubits)\n",
    "    test_encoded.append(encoded_features)\n",
    "test_encoded = np.array(test_encoded)\n"
   ]
  },
  {
   "cell_type": "code",
   "execution_count": null,
   "id": "9d6ff938-0788-4624-b432-b7d5e99c6fc5",
   "metadata": {},
   "outputs": [],
   "source": [
    "# Predict using quantum model\n",
    "quantum_predictions = quantum_model.predict(test_encoded)\n"
   ]
  },
  {
   "cell_type": "code",
   "execution_count": null,
   "id": "afcc471d-2420-4bc7-945e-cfa646a8c251",
   "metadata": {},
   "outputs": [],
   "source": [
    "# Evaluate quantum model\n",
    "quantum_accuracy = accuracy_score(test_labels, quantum_predictions)\n",
    "quantum_precision = precision_score(test_labels, quantum_predictions, average='weighted')\n",
    "quantum_recall = recall_score(test_labels, quantum_predictions, average='weighted')\n",
    "quantum_f1 = f1_score(test_labels, quantum_predictions, average='weighted')\n",
    "\n",
    "print(f'Quantum accuracy: {quantum_accuracy:.4f}')\n",
    "print(f'Quantum precision: {quantum_precision:.4f}')\n",
    "print(f'Quantum recall: {quantum_recall:.4f}')\n",
    "print(f'Quantum F1 score: {quantum_f1:.4f}')\n"
   ]
  }
 ],
 "metadata": {
  "kernelspec": {
   "display_name": "Python 3 (ipykernel)",
   "language": "python",
   "name": "python3"
  },
  "language_info": {
   "codemirror_mode": {
    "name": "ipython",
    "version": 3
   },
   "file_extension": ".py",
   "mimetype": "text/x-python",
   "name": "python",
   "nbconvert_exporter": "python",
   "pygments_lexer": "ipython3",
   "version": "3.10.8"
  },
  "widgets": {
   "application/vnd.jupyter.widget-state+json": {
    "state": {
     "0cc644a22337421bb8c43562e6f73647": {
      "model_module": "@jupyter-widgets/base",
      "model_module_version": "2.0.0",
      "model_name": "LayoutModel",
      "state": {
       "grid_area": "right",
       "padding": "0px 0px 0px 0px",
       "width": "70px"
      }
     },
     "229295800e384adf87489d234ecd8c8b": {
      "model_module": "@jupyter-widgets/controls",
      "model_module_version": "2.0.0",
      "model_name": "ButtonStyleModel",
      "state": {
       "font_family": null,
       "font_size": null,
       "font_style": null,
       "font_variant": null,
       "font_weight": null,
       "text_color": null,
       "text_decoration": null
      }
     },
     "24bac8441f0545abb93c1f0830a6741b": {
      "model_module": "@jupyter-widgets/controls",
      "model_module_version": "2.0.0",
      "model_name": "HTMLStyleModel",
      "state": {
       "description_width": "",
       "font_size": null,
       "text_color": null
      }
     },
     "309c04ab6c7942f1b3ce34b91e075172": {
      "model_module": "@jupyter-widgets/controls",
      "model_module_version": "2.0.0",
      "model_name": "ButtonModel",
      "state": {
       "button_style": "primary",
       "description": "Clear",
       "layout": "IPY_MODEL_0cc644a22337421bb8c43562e6f73647",
       "style": "IPY_MODEL_229295800e384adf87489d234ecd8c8b",
       "tooltip": null
      }
     },
     "39b405dc3e434efb9932521360935ae6": {
      "model_module": "@jupyter-widgets/controls",
      "model_module_version": "2.0.0",
      "model_name": "GridBoxModel",
      "state": {
       "children": [
        "IPY_MODEL_309c04ab6c7942f1b3ce34b91e075172"
       ],
       "layout": "IPY_MODEL_7056a72335ce4a1da5af91466f79ef05"
      }
     },
     "3b83209b806249c0bf40e0ef6a76b27e": {
      "model_module": "@jupyter-widgets/base",
      "model_module_version": "2.0.0",
      "model_name": "LayoutModel",
      "state": {
       "width": "190px"
      }
     },
     "492f5538a28f494bba41c5c95fcf78cf": {
      "model_module": "@jupyter-widgets/controls",
      "model_module_version": "2.0.0",
      "model_name": "HTMLModel",
      "state": {
       "layout": "IPY_MODEL_b3aa3cac282349f5a9fb5201e93fd9c5",
       "style": "IPY_MODEL_f876832dc7904923b7282c396cd1d827",
       "value": "<h5>Backend</h5>"
      }
     },
     "54dbed3daaa64c77a447c60083cfc7ec": {
      "model_module": "@jupyter-widgets/controls",
      "model_module_version": "2.0.0",
      "model_name": "HTMLModel",
      "state": {
       "layout": "IPY_MODEL_c4ed209e67984390a3256c442866f7a8",
       "style": "IPY_MODEL_24bac8441f0545abb93c1f0830a6741b",
       "value": "<p style='font-family: IBM Plex Sans, Arial, Helvetica, sans-serif; font-size: 20px; font-weight: medium;'>Circuit Properties</p>"
      }
     },
     "58ffbc3d9d9244429d1d9303087e654f": {
      "model_module": "@jupyter-widgets/controls",
      "model_module_version": "2.0.0",
      "model_name": "HTMLModel",
      "state": {
       "layout": "IPY_MODEL_8eecbe085efa46a6aaedbc567a39b3ce",
       "style": "IPY_MODEL_63ba06b902f643d8a71df5c398514dbe",
       "value": "<h5>Status</h5>"
      }
     },
     "63ba06b902f643d8a71df5c398514dbe": {
      "model_module": "@jupyter-widgets/controls",
      "model_module_version": "2.0.0",
      "model_name": "HTMLStyleModel",
      "state": {
       "description_width": "",
       "font_size": null,
       "text_color": null
      }
     },
     "7056a72335ce4a1da5af91466f79ef05": {
      "model_module": "@jupyter-widgets/base",
      "model_module_version": "2.0.0",
      "model_name": "LayoutModel",
      "state": {
       "grid_template_areas": "\n                                       \". . . . right \"\n                                        ",
       "grid_template_columns": "20% 20% 20% 20% 20%",
       "width": "100%"
      }
     },
     "7f49bb5735f24f2792dbeab9b5cd98c8": {
      "model_module": "@jupyter-widgets/base",
      "model_module_version": "2.0.0",
      "model_name": "LayoutModel",
      "state": {
       "margin": "0px 0px 0px 37px",
       "width": "600px"
      }
     },
     "880519a243d3432da093dd241b1e21af": {
      "model_module": "@jupyter-widgets/controls",
      "model_module_version": "2.0.0",
      "model_name": "HTMLModel",
      "state": {
       "layout": "IPY_MODEL_d09699d4342448908ab91f411e19c836",
       "style": "IPY_MODEL_e1ca630170744217a2cf7240976ad2f9",
       "value": "<h5>Message</h5>"
      }
     },
     "8eecbe085efa46a6aaedbc567a39b3ce": {
      "model_module": "@jupyter-widgets/base",
      "model_module_version": "2.0.0",
      "model_name": "LayoutModel",
      "state": {
       "width": "95px"
      }
     },
     "998c848df29b401f99a6151859a57131": {
      "model_module": "@jupyter-widgets/controls",
      "model_module_version": "2.0.0",
      "model_name": "HTMLStyleModel",
      "state": {
       "description_width": "",
       "font_size": null,
       "text_color": null
      }
     },
     "b3aa3cac282349f5a9fb5201e93fd9c5": {
      "model_module": "@jupyter-widgets/base",
      "model_module_version": "2.0.0",
      "model_name": "LayoutModel",
      "state": {
       "width": "145px"
      }
     },
     "c0bab5d0146e457a952708a2006765ab": {
      "model_module": "@jupyter-widgets/base",
      "model_module_version": "2.0.0",
      "model_name": "LayoutModel",
      "state": {
       "width": "70px"
      }
     },
     "c0badcfd818f4a0eb1562633d749c2eb": {
      "model_module": "@jupyter-widgets/controls",
      "model_module_version": "2.0.0",
      "model_name": "HTMLModel",
      "state": {
       "layout": "IPY_MODEL_c0bab5d0146e457a952708a2006765ab",
       "style": "IPY_MODEL_f06689d096894d07b82602a9d2dfdcb2",
       "value": "<h5>Queue</h5>"
      }
     },
     "c4ed209e67984390a3256c442866f7a8": {
      "model_module": "@jupyter-widgets/base",
      "model_module_version": "2.0.0",
      "model_name": "LayoutModel",
      "state": {
       "margin": "0px 0px 10px 0px"
      }
     },
     "d09699d4342448908ab91f411e19c836": {
      "model_module": "@jupyter-widgets/base",
      "model_module_version": "2.0.0",
      "model_name": "LayoutModel",
      "state": {}
     },
     "db83c2ce632a4dabae8d4e16c04eed21": {
      "model_module": "@jupyter-widgets/controls",
      "model_module_version": "2.0.0",
      "model_name": "HTMLModel",
      "state": {
       "layout": "IPY_MODEL_3b83209b806249c0bf40e0ef6a76b27e",
       "style": "IPY_MODEL_998c848df29b401f99a6151859a57131",
       "value": "<h5>Job ID</h5>"
      }
     },
     "e1ca630170744217a2cf7240976ad2f9": {
      "model_module": "@jupyter-widgets/controls",
      "model_module_version": "2.0.0",
      "model_name": "HTMLStyleModel",
      "state": {
       "description_width": "",
       "font_size": null,
       "text_color": null
      }
     },
     "e4571be88c2c49908a3056d181f61c29": {
      "model_module": "@jupyter-widgets/controls",
      "model_module_version": "2.0.0",
      "model_name": "HBoxModel",
      "state": {
       "children": [
        "IPY_MODEL_db83c2ce632a4dabae8d4e16c04eed21",
        "IPY_MODEL_492f5538a28f494bba41c5c95fcf78cf",
        "IPY_MODEL_58ffbc3d9d9244429d1d9303087e654f",
        "IPY_MODEL_c0badcfd818f4a0eb1562633d749c2eb",
        "IPY_MODEL_880519a243d3432da093dd241b1e21af"
       ],
       "layout": "IPY_MODEL_7f49bb5735f24f2792dbeab9b5cd98c8"
      }
     },
     "f06689d096894d07b82602a9d2dfdcb2": {
      "model_module": "@jupyter-widgets/controls",
      "model_module_version": "2.0.0",
      "model_name": "HTMLStyleModel",
      "state": {
       "description_width": "",
       "font_size": null,
       "text_color": null
      }
     },
     "f876832dc7904923b7282c396cd1d827": {
      "model_module": "@jupyter-widgets/controls",
      "model_module_version": "2.0.0",
      "model_name": "HTMLStyleModel",
      "state": {
       "description_width": "",
       "font_size": null,
       "text_color": null
      }
     }
    },
    "version_major": 2,
    "version_minor": 0
   }
  }
 },
 "nbformat": 4,
 "nbformat_minor": 5
}
